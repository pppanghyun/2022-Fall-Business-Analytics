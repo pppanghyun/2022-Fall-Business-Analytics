{
 "cells": [
  {
   "cell_type": "markdown",
   "metadata": {},
   "source": [
    "## Isolation Forest"
   ]
  },
  {
   "cell_type": "code",
   "execution_count": 95,
   "metadata": {},
   "outputs": [],
   "source": [
    "import matplotlib.pyplot as plt\n",
    "import numpy as np\n",
    "import pandas as pd\n",
    "import random\n",
    "from pprint import pprint\n",
    "import seaborn as sns\n",
    "import pdb\n",
    "sns.set_style(style=\"whitegrid\")\n",
    "from matplotlib import rcParams\n",
    "\n",
    "%matplotlib inline\n",
    "plt.style.use('fivethirtyeight')\n",
    "rcParams['axes.labelsize'] = 14\n",
    "rcParams['xtick.labelsize'] = 12\n",
    "rcParams['ytick.labelsize'] = 12\n",
    "rcParams['text.color'] = 'Black'\n",
    "rcParams['figure.figsize'] = 16,8"
   ]
  },
  {
   "cell_type": "markdown",
   "metadata": {},
   "source": [
    "## Sample Data 생성"
   ]
  },
  {
   "cell_type": "markdown",
   "metadata": {},
   "source": [
    "### 1. Normal Data 생성"
   ]
  },
  {
   "cell_type": "code",
   "execution_count": 106,
   "metadata": {},
   "outputs": [],
   "source": [
    "mean = [0, 0]\n",
    "covariance = [[1, 0], [0, 1]]  # diagonal covariance\n",
    "num = 2000\n",
    "x, y = np.random.multivariate_normal(mean, covariance, num).T # 다변량 정규분포 데이터 생성"
   ]
  },
  {
   "cell_type": "markdown",
   "metadata": {},
   "source": [
    "### 2. Outlier Data 생성"
   ]
  },
  {
   "cell_type": "code",
   "execution_count": 107,
   "metadata": {},
   "outputs": [],
   "source": [
    "def create_outlier(x, y, numbers):\n",
    "    '''\n",
    "    Create number of outliers \n",
    "    '''\n",
    "    for i in range(numbers):\n",
    "        \n",
    "        x[i] = np.random.normal(4, 1, 1) # mu, sigma, num\n",
    "        y[i] = np.random.normal(4, 1, 1) # mu, sigma, num"
   ]
  },
  {
   "cell_type": "code",
   "execution_count": 109,
   "metadata": {},
   "outputs": [],
   "source": [
    "create_outlier(x,y,10) # 10개의 이상치 데이터 생성"
   ]
  },
  {
   "cell_type": "markdown",
   "metadata": {},
   "source": [
    "### 3. Dateset 생성 및 분포 시각화"
   ]
  },
  {
   "cell_type": "code",
   "execution_count": 110,
   "metadata": {},
   "outputs": [
    {
     "data": {
      "image/png": "[encoded data removed]",
      "text/plain": [
       "<Figure size 504x504 with 1 Axes>"
      ]
     },
     "metadata": {},
     "output_type": "display_data"
    }
   ],
   "source": [
    "Data= np.array([x,y]).T\n",
    "Data = pd.DataFrame(Data,columns=['Feature1','Feature2'])\n",
    "plt.figure(figsize=(7,7))\n",
    "plt.plot(x,y,'ro')\n",
    "plt.show()"
   ]
  },
  {
   "cell_type": "markdown",
   "metadata": {},
   "source": [
    "## Isolation Tree"
   ]
  },
  {
   "cell_type": "code",
   "execution_count": 100,
   "metadata": {},
   "outputs": [],
   "source": [
    "def select_attribute(data):\n",
    "    '''\n",
    "    Isolation을 진행하기 위해 랜덤으로 변수 선택\n",
    "    '''\n",
    "    return random.choice(data.columns)\n",
    "\n",
    "def split_point(data, columns):\n",
    "    '''\n",
    "    랜덤으로 선택된 변수 중에서 split point 선정\n",
    "    '''\n",
    "    min = np.min(data[columns])\n",
    "    max = np.max(data[columns])\n",
    "    \n",
    "    split = (max - min)*np.random.random() + min\n",
    "    \n",
    "    return split\n",
    "\n",
    "def split_data(data, attribute, splitpoint):\n",
    "    '''\n",
    "    split point 기준으로 데이터 분할\n",
    "    '''\n",
    "    data_up = data[data[attribute] > splitpoint]\n",
    "    data_down = data[data[attribute] <= splitpoint]\n",
    "    \n",
    "    return data_up, data_down\n",
    "\n",
    "def data_classification(data):\n",
    "    '''\n",
    "    '''\n",
    "    colummn_values = data.values[:,-1] # 1?\n",
    "    unique_values, value_counts = np.unique(colummn_values, return_counts=True)\n",
    "    value_index = value_counts.argmax()\n",
    "    classification = unique_values[value_index]\n",
    "    \n",
    "    return classification"
   ]
  },
  {
   "cell_type": "markdown",
   "metadata": {},
   "source": [
    "## Isolation Tree"
   ]
  },
  {
   "cell_type": "code",
   "execution_count": 136,
   "metadata": {},
   "outputs": [],
   "source": [
    "def isolation_tree(data, count=0, max_depth=50):\n",
    "    \n",
    "    \n",
    "    if (count == max_depth) or data.shape[0] <=1: \n",
    "        classification = data_classification(data)\n",
    "        \n",
    "        return classification\n",
    "    \n",
    "    else:\n",
    "        # count\n",
    "        count += 1\n",
    "        \n",
    "        # 변수 선택\n",
    "        attribute = select_attribute(data)\n",
    "        \n",
    "        # 분할점 선택\n",
    "        split = split_point(data, attribute)\n",
    "        \n",
    "        # 분할점 기준 분할\n",
    "        data_up, data_down = split_data(data, attribute, split)\n",
    "        \n",
    "        # 분할 시도\n",
    "        split_try = \"{} =< {}\".format(attribute, split)\n",
    "        # split_try = f\"변수 {attribute}에 {split}보다 작거나 같은 값은\"\n",
    "        # sub_tree dictionary에 저장\n",
    "        sub_tree = {split_try: []}\n",
    "        \n",
    "        answer_up = isolation_tree(data_up, count, max_depth=max_depth) \n",
    "        answer_down = isolation_tree(data_down, count, max_depth=max_depth)\n",
    "        \n",
    "        if answer_down == answer_up:\n",
    "            sub_tree = answer_down\n",
    "        \n",
    "        else:\n",
    "            sub_tree[split_try].append(answer_down)\n",
    "            sub_tree[split_try].append(answer_up)\n",
    "        \n",
    "        \n",
    "        return sub_tree"
   ]
  },
  {
   "cell_type": "code",
   "execution_count": 137,
   "metadata": {},
   "outputs": [
    {
     "name": "stdout",
     "output_type": "stream",
     "text": [
      "{'Feature2 =< -2.676138005416277': [-3.790447632657338, -2.660760494948171]}\n"
     ]
    }
   ],
   "source": [
    "tree = isolation_tree(Data, max_depth=1)\n",
    "print(tree)"
   ]
  },
  {
   "cell_type": "markdown",
   "metadata": {},
   "source": [
    "## Isolation Forest"
   ]
  },
  {
   "cell_type": "code",
   "execution_count": 141,
   "metadata": {},
   "outputs": [],
   "source": [
    "def isolation_forest(data, num_trees=5, max_depth=5, subspace=256):\n",
    "    \n",
    "    forest = []\n",
    "\n",
    "    for i in range(num_trees):\n",
    "        # Sample the subspace\n",
    "        if subspace<=1:\n",
    "            data = data.sample(frac=subspace)\n",
    "        else:\n",
    "            data = data.sample(subspace)\n",
    "        \n",
    "\n",
    "        # Fit tree\n",
    "        tree = isolation_tree(data, max_depth=max_depth)\n",
    "        \n",
    "        # Save tree to forest\n",
    "        forest.append(tree)\n",
    "    \n",
    "    return forest"
   ]
  },
  {
   "cell_type": "code",
   "execution_count": 142,
   "metadata": {},
   "outputs": [
    {
     "data": {
      "text/plain": [
       "[{'Feature1 =< 0.23962611358496844': [-3.1499016004026963,\n",
       "   -2.8023532782538494]},\n",
       " {'Feature2 =< -2.320898334261837': [-3.1499016004026963, -2.036004655760361]},\n",
       " {'Feature1 =< -1.843377767264755': [-0.11272690523426825,\n",
       "   -3.1499016004026963]},\n",
       " {'Feature1 =< 1.778152518138063': [-3.1499016004026963,\n",
       "   -0.41901763506293827]},\n",
       " {'Feature2 =< -1.2270951857834862': [-3.1499016004026963,\n",
       "   -1.2265126749387414]}]"
      ]
     },
     "execution_count": 142,
     "metadata": {},
     "output_type": "execute_result"
    }
   ],
   "source": [
    "isolation_forest(Data, num_trees=5, max_depth=1)"
   ]
  },
  {
   "cell_type": "markdown",
   "metadata": {},
   "source": [
    "## Path Length"
   ]
  },
  {
   "cell_type": "code",
   "execution_count": 131,
   "metadata": {},
   "outputs": [],
   "source": [
    "def pathLength(example, iTree, path=0, trace=False):\n",
    "    \n",
    "    path = path+1\n",
    "    question = list(iTree.keys())[0]\n",
    "    \n",
    "    feature_name, _, value = question.split() # \"{} =< {}\".format(attribute, split)\n",
    "    \n",
    "    # ask question\n",
    "    if example[feature_name].values <= float(value):\n",
    "        answer = iTree[question][0]\n",
    "    else:\n",
    "        answer = iTree[question][1]\n",
    "        \n",
    "        \n",
    "    # base case\n",
    "    if not isinstance(answer, dict):\n",
    "        return path\n",
    "    \n",
    "    # recursive part\n",
    "    else:\n",
    "        residual_tree = answer\n",
    "        return pathLength(example, residual_tree,path=path)\n",
    "\n",
    "    return path"
   ]
  },
  {
   "cell_type": "code",
   "execution_count": 143,
   "metadata": {},
   "outputs": [],
   "source": [
    "tree = isolation_tree(Data,max_depth=3)"
   ]
  },
  {
   "cell_type": "code",
   "execution_count": 147,
   "metadata": {},
   "outputs": [
    {
     "data": {
      "text/plain": [
       "3"
      ]
     },
     "execution_count": 147,
     "metadata": {},
     "output_type": "execute_result"
    }
   ],
   "source": [
    "ins = Data.sample(1)\n",
    "pathLength(ins,tree)"
   ]
  },
  {
   "cell_type": "markdown",
   "metadata": {},
   "source": [
    "## Plot"
   ]
  },
  {
   "cell_type": "code",
   "execution_count": 154,
   "metadata": {},
   "outputs": [],
   "source": [
    "def makeline(data,example,iTree,path=0,line_width=1):\n",
    "    \n",
    "    #line_width = line_width +2\n",
    "    path=path+1\n",
    "    question = list(iTree.keys())[0]\n",
    "    feature_name, comparison_operator, value = question.split()\n",
    "    print(question)\n",
    "    \n",
    "    # ask question\n",
    "    if example[feature_name].values <= float(value):\n",
    "        answer = iTree[question][0]\n",
    "        data = data[data[feature_name] <= float(value)]\n",
    "    else:\n",
    "        answer = iTree[question][1]\n",
    "        data = data[data[feature_name] > float(value)]\n",
    "        \n",
    "\n",
    "    if feature_name == 'Feature1':\n",
    "        plt.hlines(float(value),xmin=data.Feature1.min(),xmax=data.Feature1.max(),linewidths=line_width)\n",
    "    else:\n",
    "        plt.vlines(float(value),ymin=data.Feature2.min(),ymax=data.Feature2.max(),linewidths=line_width)\n",
    "             \n",
    "        \n",
    "    # base case\n",
    "    if not isinstance(answer, dict):\n",
    "        return path\n",
    "    \n",
    "    # recursive part\n",
    "    else:\n",
    "        if feature_name == 'Feature1':\n",
    "            plt.hlines(float(value),xmin=data.Feature1.min(),xmax=data.Feature1.max(),linewidths=line_width)\n",
    "        else:\n",
    "            plt.vlines(float(value),ymin=data.Feature2.min(),ymax=data.Feature2.max(),linewidths=line_width)\n",
    "        residual_tree = answer\n",
    "        return makeline(data,example, residual_tree,path=path,line_width=line_width)\n",
    "    \n",
    "    return path"
   ]
  },
  {
   "cell_type": "code",
   "execution_count": 155,
   "metadata": {},
   "outputs": [],
   "source": [
    "def make_plot(data,example,iTree):\n",
    "    plt.figure()\n",
    "    plt.plot(data['Feature1'],data['Feature2'],'bo',alpha=0.2)\n",
    "    plt.xlabel('Feature1')\n",
    "    plt.ylabel('Feature2')\n",
    "    #plt.xlim(data.Feature1.min(),data.feat1.max())\n",
    "    plt.ylim(-3,3)\n",
    "    plt.xlim(-3,3)\n",
    "      \n",
    "    \n",
    "    # Plot H,v line\n",
    "    makeline(data,example,tree)\n",
    "    \n",
    "\n",
    "    # Plot the point we are looking for\n",
    "    plt.scatter(x=example.Feature1,y=ins.Feature2,c='r',marker='o')\n",
    "    \n",
    "    plt.show()"
   ]
  },
  {
   "cell_type": "code",
   "execution_count": 156,
   "metadata": {},
   "outputs": [
    {
     "name": "stdout",
     "output_type": "stream",
     "text": [
      "      Feature1  Feature2\n",
      "1294   0.25038 -0.148648\n",
      "Feature2 =< 0.5568323672079454\n",
      "Feature2 =< -2.616141783971648\n",
      "Feature2 =< -1.235084331197673\n",
      "Feature2 =< -0.6565941147878182\n",
      "Feature1 =< 0.5813840078712211\n"
     ]
    },
    {
     "data": {
      "image/png": "[encoded data removed]",
      "text/plain": [
       "<Figure size 1152x576 with 1 Axes>"
      ]
     },
     "metadata": {},
     "output_type": "display_data"
    }
   ],
   "source": [
    "data_plot = Data.sample(10)\n",
    "ins = data_plot.sample(1)\n",
    "print(ins)\n",
    "\n",
    "tree = isolation_tree(data_plot,max_depth=50)\n",
    "make_plot(data_plot,ins,tree)"
   ]
  },
  {
   "cell_type": "markdown",
   "metadata": {},
   "source": [
    "## Evaluate"
   ]
  },
  {
   "cell_type": "code",
   "execution_count": 160,
   "metadata": {},
   "outputs": [],
   "source": [
    "\n",
    "iForest = isolation_forest(Data, num_trees=20, max_depth=100, subspace=256)"
   ]
  },
  {
   "cell_type": "code",
   "execution_count": 161,
   "metadata": {},
   "outputs": [],
   "source": [
    "def evaluate_instance(instance,forest):\n",
    "    paths = []\n",
    "    for tree in forest:\n",
    "        paths.append(pathLength(instance,tree))\n",
    "    return paths "
   ]
  },
  {
   "cell_type": "code",
   "execution_count": 162,
   "metadata": {},
   "outputs": [],
   "source": [
    "def c_factor(n) :\n",
    "    \"\"\"\n",
    "    Average path length of unsuccesful search in a binary search tree given n points\n",
    "    \n",
    "    Parameters\n",
    "    ----------\n",
    "    n : int\n",
    "        Number of data points for the BST.\n",
    "    Returns\n",
    "    -------\n",
    "    float\n",
    "        Average path length of unsuccesful search in a BST\n",
    "        \n",
    "    \"\"\"\n",
    "    return 2.0*(np.log(n-1)+0.5772156649) - (2.0*(n-1.)/(n*1.0))\n"
   ]
  },
  {
   "cell_type": "code",
   "execution_count": 163,
   "metadata": {},
   "outputs": [],
   "source": [
    "def anomaly_score(data_point,forest,n):\n",
    "    '''\n",
    "    Anomaly Score\n",
    "    \n",
    "    Returns\n",
    "    -------\n",
    "    0.5 -- sample does not have any distinct anomaly\n",
    "    0 -- Normal Instance\n",
    "    1 -- An anomaly\n",
    "    '''\n",
    "    # Mean depth for an instance\n",
    "    E = np.mean(evaluate_instance(data_point,forest))\n",
    "    \n",
    "    c = c_factor(n)\n",
    "    \n",
    "    return 2**-(E/c)"
   ]
  },
  {
   "cell_type": "markdown",
   "metadata": {},
   "source": [
    "## Evaluate whole dataset"
   ]
  },
  {
   "cell_type": "code",
   "execution_count": 164,
   "metadata": {},
   "outputs": [],
   "source": [
    "an= []\n",
    "for i in range(Data.shape[0]):\n",
    "    an.append(anomaly_score(Data.iloc[[i]],iForest,256))"
   ]
  },
  {
   "cell_type": "code",
   "execution_count": 165,
   "metadata": {},
   "outputs": [],
   "source": [
    "def instance_depth_plot(instance,outlier,forest):\n",
    "    bars1 = evaluate_instance(outlier,forest)\n",
    "\n",
    "    bars2 = evaluate_instance(instance,forest)\n",
    "\n",
    "    # width of the bars\n",
    "    barWidth = 0.3\n",
    "\n",
    "    # The x position of bars\n",
    "    r1 = np.arange(len(bars1))\n",
    "    r2 = [x + barWidth for x in r1]\n",
    "    \n",
    "    # Create cyan bars\n",
    "    plt.bar(r2, bars2, width = barWidth, capsize=7, label='Normal Sample')\n",
    "\n",
    "    # Create blue bars\n",
    "    plt.bar(r1, bars1, width = barWidth,  capsize=7, label='Outlier')\n",
    "    #sns.barplot(x=r1, y=bars1,capsize=7, label='Outlier')\n",
    "\n",
    "    \n",
    "    #sns.barplot(x=r2, y=bars2, label='Normal')\n",
    "    \n",
    "    # general layout\n",
    "\n",
    "    plt.ylabel('Tree Depth')\n",
    "    plt.xlabel('Trees')\n",
    "    plt.legend()\n",
    "\n",
    "    # Show graphic\n",
    "    plt.savefig('images/normal_vs_outlier.png')\n",
    "\n",
    "    plt.show()"
   ]
  },
  {
   "cell_type": "code",
   "execution_count": 168,
   "metadata": {},
   "outputs": [
    {
     "data": {
      "image/png": "[encoded data removed]",
      "text/plain": [
       "<Figure size 1152x576 with 1 Axes>"
      ]
     },
     "metadata": {},
     "output_type": "display_data"
    }
   ],
   "source": [
    "instance_depth_plot(Data.sample(1),\n",
    "                    Data.head(1),\n",
    "                    iForest)"
   ]
  },
  {
   "cell_type": "code",
   "execution_count": 169,
   "metadata": {},
   "outputs": [],
   "source": [
    "\n",
    "outlier  = evaluate_instance(Data.head(1),iForest)\n",
    "normal  = evaluate_instance(Data.sample(1),iForest)"
   ]
  },
  {
   "cell_type": "code",
   "execution_count": 170,
   "metadata": {},
   "outputs": [
    {
     "data": {
      "text/plain": [
       "3.45"
      ]
     },
     "execution_count": 170,
     "metadata": {},
     "output_type": "execute_result"
    }
   ],
   "source": [
    "np.mean(outlier)"
   ]
  },
  {
   "cell_type": "code",
   "execution_count": 171,
   "metadata": {},
   "outputs": [
    {
     "data": {
      "text/plain": [
       "12.65"
      ]
     },
     "execution_count": 171,
     "metadata": {},
     "output_type": "execute_result"
    }
   ],
   "source": [
    "np.mean(normal)"
   ]
  },
  {
   "cell_type": "code",
   "execution_count": 174,
   "metadata": {},
   "outputs": [],
   "source": [
    "iForest = isolation_forest(Data, num_trees=20, max_depth =100, subspace=1_560)"
   ]
  },
  {
   "cell_type": "code",
   "execution_count": 177,
   "metadata": {},
   "outputs": [
    {
     "name": "stdout",
     "output_type": "stream",
     "text": [
      "Anomaly score for outlier: 0.7905221843663564\n",
      "Anomaly score for normal: 0.3789867273701014\n"
     ]
    },
    {
     "name": "stderr",
     "output_type": "stream",
     "text": [
      "C:\\Users\\changhyun\\AppData\\Local\\Temp\\ipykernel_34640\\3650187539.py:10: DeprecationWarning: The truth value of an empty array is ambiguous. Returning False, but in future this will result in an error. Use `array.size > 0` to check that an array is not empty.\n",
      "  if example[feature_name].values <= float(value):\n"
     ]
    }
   ],
   "source": [
    "print('Anomaly score for outlier:',anomaly_score(Data.head(0), iForest,1560))\n",
    "print('Anomaly score for normal:',anomaly_score(Data.sample(1),iForest,1560))"
   ]
  },
  {
   "cell_type": "code",
   "execution_count": null,
   "metadata": {},
   "outputs": [],
   "source": []
  }
 ],
 "metadata": {
  "kernelspec": {
   "display_name": "Python 3.9.12 ('pytorch')",
   "language": "python",
   "name": "python3"
  },
  "language_info": {
   "codemirror_mode": {
    "name": "ipython",
    "version": 3
   },
   "file_extension": ".py",
   "mimetype": "text/x-python",
   "name": "python",
   "nbconvert_exporter": "python",
   "pygments_lexer": "ipython3",
   "version": "3.9.12"
  },
  "orig_nbformat": 4,
  "vscode": {
   "interpreter": {
    "hash": "15dce93db13c082ac52ebe50c642c71e585f0e2fe0872409ffa1e53bced00a44"
   }
  }
 },
 "nbformat": 4,
 "nbformat_minor": 2
}
