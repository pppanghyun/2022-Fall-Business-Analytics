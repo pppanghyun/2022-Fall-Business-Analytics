{
 "cells": [
  {
   "cell_type": "markdown",
   "metadata": {},
   "source": [
    "## 1. Princial Componets Analysis (PCA)"
   ]
  },
  {
   "cell_type": "markdown",
   "metadata": {},
   "source": [
    "#### 대략적인 PCA 알고리즘\n",
    "1. 데이터 셋 준비\n",
    "2. 데이터 셋을 피처별로 표준화\n",
    "3. 피처 데이터의 공분산 행렬 구하기\n",
    "4. 3에서 구한 공분산 행렬의 고유값, 고유 벡터 구하기\n",
    "5. 고유값을 큰 순서대로 내림차순 정렬\n",
    "6. d차원으로 줄이고 싶은 경우, 크기 순서대로 d개의 고윳값 선정\n",
    "7. 6에서 선정한 고유값에 대응하는 고유 벡터로 새로운 행렬 생성\n",
    "8. 1에서 준비한 오리지널 데이터를 7에서 만든 새로운 공간으로 투영"
   ]
  },
  {
   "cell_type": "markdown",
   "metadata": {},
   "source": [
    "#### "
   ]
  },
  {
   "cell_type": "markdown",
   "metadata": {},
   "source": [
    "### 1. Import Packages and Modules"
   ]
  },
  {
   "cell_type": "code",
   "execution_count": 2,
   "metadata": {},
   "outputs": [],
   "source": [
    "import numpy as np\n",
    "from numpy.linalg import eig\n",
    "import pandas as pd\n",
    "\n",
    "from sklearn import datasets\n",
    "from sklearn.preprocessing import StandardScaler\n",
    "from sklearn.model_selection import train_test_split\n",
    "from sklearn.ensemble import RandomForestClassifier\n",
    "from sklearn.metrics import accuracy_score\n",
    "from sklearn.decomposition import PCA\n",
    "\n",
    "import matplotlib.pyplot as plt"
   ]
  },
  {
   "cell_type": "markdown",
   "metadata": {},
   "source": [
    "### 2. Load Data and EDA"
   ]
  },
  {
   "cell_type": "code",
   "execution_count": 3,
   "metadata": {},
   "outputs": [
    {
     "name": "stdout",
     "output_type": "stream",
     "text": [
      ".. _wine_dataset:\n",
      "\n",
      "Wine recognition dataset\n",
      "------------------------\n",
      "\n",
      "**Data Set Characteristics:**\n",
      "\n",
      "    :Number of Instances: 178\n",
      "    :Number of Attributes: 13 numeric, predictive attributes and the class\n",
      "    :Attribute Information:\n",
      " \t\t- Alcohol\n",
      " \t\t- Malic acid\n",
      " \t\t- Ash\n",
      "\t\t- Alcalinity of ash  \n",
      " \t\t- Magnesium\n",
      "\t\t- Total phenols\n",
      " \t\t- Flavanoids\n",
      " \t\t- Nonflavanoid phenols\n",
      " \t\t- Proanthocyanins\n",
      "\t\t- Color intensity\n",
      " \t\t- Hue\n",
      " \t\t- OD280/OD315 of diluted wines\n",
      " \t\t- Proline\n",
      "\n",
      "    - class:\n",
      "            - class_0\n",
      "            - class_1\n",
      "            - class_2\n",
      "\t\t\n",
      "    :Summary Statistics:\n",
      "    \n",
      "    ============================= ==== ===== ======= =====\n",
      "                                   Min   Max   Mean     SD\n",
      "    ============================= ==== ===== ======= =====\n",
      "    Alcohol:                      11.0  14.8    13.0   0.8\n",
      "    Malic Acid:                   0.74  5.80    2.34  1.12\n",
      "    Ash:                          1.36  3.23    2.36  0.27\n",
      "    Alcalinity of Ash:            10.6  30.0    19.5   3.3\n",
      "    Magnesium:                    70.0 162.0    99.7  14.3\n",
      "    Total Phenols:                0.98  3.88    2.29  0.63\n",
      "    Flavanoids:                   0.34  5.08    2.03  1.00\n",
      "    Nonflavanoid Phenols:         0.13  0.66    0.36  0.12\n",
      "    Proanthocyanins:              0.41  3.58    1.59  0.57\n",
      "    Colour Intensity:              1.3  13.0     5.1   2.3\n",
      "    Hue:                          0.48  1.71    0.96  0.23\n",
      "    OD280/OD315 of diluted wines: 1.27  4.00    2.61  0.71\n",
      "    Proline:                       278  1680     746   315\n",
      "    ============================= ==== ===== ======= =====\n",
      "\n",
      "    :Missing Attribute Values: None\n",
      "    :Class Distribution: class_0 (59), class_1 (71), class_2 (48)\n",
      "    :Creator: R.A. Fisher\n",
      "    :Donor: Michael Marshall (MARSHALL%PLU@io.arc.nasa.gov)\n",
      "    :Date: July, 1988\n",
      "\n",
      "This is a copy of UCI ML Wine recognition datasets.\n",
      "https://archive.ics.uci.edu/ml/machine-learning-databases/wine/wine.data\n",
      "\n",
      "The data is the results of a chemical analysis of wines grown in the same\n",
      "region in Italy by three different cultivators. There are thirteen different\n",
      "measurements taken for different constituents found in the three types of\n",
      "wine.\n",
      "\n",
      "Original Owners: \n",
      "\n",
      "Forina, M. et al, PARVUS - \n",
      "An Extendible Package for Data Exploration, Classification and Correlation. \n",
      "Institute of Pharmaceutical and Food Analysis and Technologies,\n",
      "Via Brigata Salerno, 16147 Genoa, Italy.\n",
      "\n",
      "Citation:\n",
      "\n",
      "Lichman, M. (2013). UCI Machine Learning Repository\n",
      "[https://archive.ics.uci.edu/ml]. Irvine, CA: University of California,\n",
      "School of Information and Computer Science. \n",
      "\n",
      ".. topic:: References\n",
      "\n",
      "  (1) S. Aeberhard, D. Coomans and O. de Vel, \n",
      "  Comparison of Classifiers in High Dimensional Settings, \n",
      "  Tech. Rep. no. 92-02, (1992), Dept. of Computer Science and Dept. of  \n",
      "  Mathematics and Statistics, James Cook University of North Queensland. \n",
      "  (Also submitted to Technometrics). \n",
      "\n",
      "  The data was used with many others for comparing various \n",
      "  classifiers. The classes are separable, though only RDA \n",
      "  has achieved 100% correct classification. \n",
      "  (RDA : 100%, QDA 99.4%, LDA 98.9%, 1NN 96.1% (z-transformed data)) \n",
      "  (All results using the leave-one-out technique) \n",
      "\n",
      "  (2) S. Aeberhard, D. Coomans and O. de Vel, \n",
      "  \"THE CLASSIFICATION PERFORMANCE OF RDA\" \n",
      "  Tech. Rep. no. 92-01, (1992), Dept. of Computer Science and Dept. of \n",
      "  Mathematics and Statistics, James Cook University of North Queensland. \n",
      "  (Also submitted to Journal of Chemometrics).\n",
      "\n"
     ]
    }
   ],
   "source": [
    "# 13개 변수 / 3개 범주\n",
    "\n",
    "raw_wine = datasets.load_wine()\n",
    "print(raw_wine.DESCR) # Dataset Description # 13 Features with 3 Classes"
   ]
  },
  {
   "cell_type": "markdown",
   "metadata": {},
   "source": [
    "### 3. Data Split and Standardization"
   ]
  },
  {
   "cell_type": "code",
   "execution_count": 4,
   "metadata": {},
   "outputs": [],
   "source": [
    "X = raw_wine.data  # Features\n",
    "y = raw_wine.target # Target\n",
    "\n",
    "\n",
    "X_train, X_test, y_train, y_test=train_test_split(X, y, test_size=0.3, random_state=0)"
   ]
  },
  {
   "cell_type": "markdown",
   "metadata": {},
   "source": [
    "### 4. Standardization"
   ]
  },
  {
   "cell_type": "code",
   "execution_count": 5,
   "metadata": {},
   "outputs": [],
   "source": [
    "# PCA는 정규화가 필수\n",
    "\n",
    "std_scale = StandardScaler()\n",
    "std_scale.fit(X_train)\n",
    "\n",
    "X_train_std = std_scale.transform(X_train)\n",
    "X_test_std  = std_scale.transform(X_test)"
   ]
  },
  {
   "cell_type": "markdown",
   "metadata": {},
   "source": [
    "### 5. Principa Components Analysis (PCA)"
   ]
  },
  {
   "cell_type": "code",
   "execution_count": 6,
   "metadata": {},
   "outputs": [],
   "source": [
    "# 주성분 n(2)개를 사용해서 PCA\n",
    "# Train / Test 모두!\n",
    "\n",
    "pca = PCA(n_components=2) # n_components: Number of principal components to use (hyperparameter)\n",
    "pca.fit(X_train_std)\n",
    "\n",
    "X_train_pca = pca.transform(X_train_std)\n",
    "X_test_pca = pca.transform(X_test_std)"
   ]
  },
  {
   "cell_type": "markdown",
   "metadata": {},
   "source": [
    "### 6. Shape of Data Before and After PCA"
   ]
  },
  {
   "cell_type": "code",
   "execution_count": 7,
   "metadata": {},
   "outputs": [
    {
     "name": "stdout",
     "output_type": "stream",
     "text": [
      "(124, 13)\n",
      "(124, 2)\n",
      "(54, 13)\n",
      "(54, 2)\n"
     ]
    }
   ],
   "source": [
    "# 기존 142x13의 데이터가 -> 142x2로 잘 바뀜\n",
    "\n",
    "print(X_train_std.shape)\n",
    "print(X_train_pca.shape) # number of componets = 2\n",
    "\n",
    "# 36x13 -> 36x2\n",
    "\n",
    "print(X_test_std.shape)\n",
    "print(X_test_pca.shape) # number of componets = 2"
   ]
  },
  {
   "cell_type": "markdown",
   "metadata": {},
   "source": [
    "### 7. Check Covariance Matrix, Eigen Value, Eigen Vector"
   ]
  },
  {
   "cell_type": "markdown",
   "metadata": {},
   "source": [
    "#### Covariance Matrix"
   ]
  },
  {
   "cell_type": "code",
   "execution_count": 8,
   "metadata": {},
   "outputs": [
    {
     "name": "stdout",
     "output_type": "stream",
     "text": [
      "공분산 행렬: \n",
      " [[ 1.11061274  0.08204736  0.2620712  -0.22698621  0.30280443  0.34136106\n",
      "   0.28200254 -0.17805591  0.22577996  0.47112849 -0.0811502   0.06515448\n",
      "   0.54348018]\n",
      " [ 0.08204736  0.89289411  0.1667861   0.23968674 -0.01962281 -0.3680701\n",
      "  -0.44293369  0.3330986  -0.30931797  0.36115941 -0.44937132 -0.4718626\n",
      "  -0.13878138]\n",
      " [ 0.2620712   0.1667861   0.68647277 -0.00270575  0.11248242  0.00130893\n",
      "  -0.04929376  0.0505066  -0.02303006  0.31709879 -0.19506603 -0.14543798\n",
      "   0.16431792]\n",
      " [-0.22698621  0.23968674 -0.00270575  0.81516478 -0.16362219 -0.44594934\n",
      "  -0.47336945  0.33927165 -0.34474685  0.04149048 -0.29979209 -0.38868275\n",
      "  -0.3719523 ]\n",
      " [ 0.30280443 -0.01962281  0.11248242 -0.16362219  0.68901342  0.24738011\n",
      "   0.22829419 -0.15335216  0.17497152  0.19164282  0.03370886  0.11642496\n",
      "   0.31678483]\n",
      " [ 0.34136106 -0.3680701   0.00130893 -0.44594934  0.24738011  1.20192449\n",
      "   0.72211492 -0.51781199  0.52568312 -0.06865877  0.46013731  0.59472791\n",
      "   0.56392177]\n",
      " [ 0.28200254 -0.44293369 -0.04929376 -0.47336945  0.22829419  0.72211492\n",
      "   1.30556035 -0.56622968  0.56610847 -0.17100216  0.54957381  0.67735578\n",
      "   0.54887385]\n",
      " [-0.17805591  0.3330986   0.0505066   0.33927165 -0.15335216 -0.51781199\n",
      "  -0.56622968  0.93324813 -0.40816555  0.15194237 -0.41219799 -0.49926451\n",
      "  -0.37849783]\n",
      " [ 0.22577996 -0.30931797 -0.02303006 -0.34474685  0.17497152  0.52568312\n",
      "   0.56610847 -0.40816555  0.93268712 -0.09962234  0.38471917  0.48161085\n",
      "   0.41236104]\n",
      " [ 0.47112849  0.36115941  0.31709879  0.04149048  0.19164282 -0.06865877\n",
      "  -0.17100216  0.15194237 -0.09962234  1.14297896 -0.42550429 -0.34361603\n",
      "   0.25873695]\n",
      " [-0.0811502  -0.44937132 -0.19506603 -0.29979209  0.03370886  0.46013731\n",
      "   0.54957381 -0.41219799  0.38471917 -0.42550429  1.06817607  0.57788096\n",
      "   0.18687056]\n",
      " [ 0.06515448 -0.4718626  -0.14543798 -0.38868275  0.11642496  0.59472791\n",
      "   0.67735578 -0.49926451  0.48161085 -0.34361603  0.57788096  1.17402119\n",
      "   0.34770729]\n",
      " [ 0.54348018 -0.13878138  0.16431792 -0.3719523   0.31678483  0.56392177\n",
      "   0.54887385 -0.37849783  0.41236104  0.25873695  0.18687056  0.34770729\n",
      "   1.15293694]]\n",
      "공분산 행렬 차원: \n",
      " (13, 13)\n"
     ]
    }
   ],
   "source": [
    "# PCA 분석을 위해 원본 데이터에서 공분산 행렬을 확인\n",
    "\n",
    "print(\"공분산 행렬: \\n\",pca.get_covariance()) # Covariance Matrix\n",
    "print(\"공분산 행렬 차원: \\n\", pca.get_covariance().shape) # 13x13"
   ]
  },
  {
   "cell_type": "markdown",
   "metadata": {},
   "source": [
    "#### Eigenvalue"
   ]
  },
  {
   "cell_type": "code",
   "execution_count": 9,
   "metadata": {},
   "outputs": [
    {
     "name": "stdout",
     "output_type": "stream",
     "text": [
      "고유값(Eigenvalue)은:\n",
      " [0.52245749 2.46635032 4.8923083  0.52245749 0.52245749 0.52245749\n",
      " 0.52245749 0.52245749 0.52245749 0.52245749 0.52245749 0.52245749\n",
      " 0.52245749]\n"
     ]
    }
   ],
   "source": [
    "# method 1 \n",
    "# eig 함수를 사용해서 공분산 행렬의 eigen value와 eigen vector 구하기\n",
    "w,v = eig(pca.get_covariance())\n",
    "print('고유값(Eigenvalue)은:\\n', w)"
   ]
  },
  {
   "cell_type": "code",
   "execution_count": 10,
   "metadata": {},
   "outputs": [
    {
     "name": "stdout",
     "output_type": "stream",
     "text": [
      "고유값(Eigenvalue)은:\n",
      " [4.8923083  2.46635032]\n"
     ]
    }
   ],
   "source": [
    "# method 2\n",
    "# pca 모듈 사용\n",
    "print('고유값(Eigenvalue)은:\\n', pca.explained_variance_) # n_components = 2"
   ]
  },
  {
   "cell_type": "markdown",
   "metadata": {},
   "source": [
    "#### 같은 값이 나옴을 알 수 있다!"
   ]
  },
  {
   "cell_type": "markdown",
   "metadata": {},
   "source": [
    "#### Eigenvector"
   ]
  },
  {
   "cell_type": "code",
   "execution_count": 11,
   "metadata": {},
   "outputs": [
    {
     "name": "stdout",
     "output_type": "stream",
     "text": [
      "고유행렬(Eigenvector): \n",
      " [[-0.85105316  0.50417079 -0.14669811 -0.12991839 -0.19827768  0.102751\n",
      "   0.13973956  0.08241494  0.07649143 -0.01502343  0.21585823  0.36472588\n",
      "   0.10368042]\n",
      " [ 0.10170636  0.24216889  0.24224554 -0.7281973  -0.00746122  0.0355536\n",
      "   0.19722824  0.17058085  0.04787972  0.08028794  0.27574835  0.00473708\n",
      "  -0.02017595]\n",
      " [ 0.16485227  0.28698484  0.02993442  0.05128356  0.27062718 -0.09612144\n",
      "   0.00919091 -0.13769725  0.16908577 -0.35430426 -0.27816056 -0.39907068\n",
      "   0.21733725]\n",
      " [-0.08230894 -0.06468718  0.25519002 -0.0583551  -0.38977675  0.1297222\n",
      "  -0.51504038  0.59604319  0.31522259 -0.42288412 -0.31107025  0.21920419\n",
      "   0.23468883]\n",
      " [ 0.15704872  0.22995385 -0.12079772  0.22182642 -0.52501737  0.62533074\n",
      "  -0.21242671 -0.03112128  0.36006084 -0.22115542 -0.06624115  0.1383718\n",
      "   0.44664196]\n",
      " [ 0.12258532  0.09363991 -0.38934455  0.24225249 -0.07130421 -0.49781523\n",
      "   0.46618087  0.33409878 -0.28011484 -0.04557797  0.29625188  0.12777168\n",
      "  -0.37436464]\n",
      " [ 0.07940828  0.01088622 -0.42326486 -0.11101301 -0.05964967 -0.2107032\n",
      "  -0.34742526 -0.09805427 -0.18681643  0.37985504  0.15508778 -0.34117102\n",
      "  -0.2394467 ]\n",
      " [-0.04172691  0.01870216  0.30634956  0.02948061 -0.01435657 -0.40839899\n",
      "   0.46899553 -0.12433684 -0.6647463   0.6629171  -0.39526844 -0.0953026\n",
      "  -0.59027303]\n",
      " [ 0.07070937  0.03040352 -0.30572219  0.14155413 -0.00164139  0.04573557\n",
      "  -0.09866518  0.11431429  0.32133655 -0.12650958 -0.47806284  0.12871398\n",
      "   0.13589554]\n",
      " [ 0.30601108  0.54527081  0.09869191  0.23243721  0.23968021 -0.25017322\n",
      "  -0.06838341 -0.3326375  -0.21282738  0.05908538 -0.19102092 -0.2677515\n",
      "  -0.34062652]\n",
      " [-0.11365813 -0.27924322 -0.30032535 -0.36833833 -0.35627098 -0.08291677\n",
      "   0.13949275 -0.49498907 -0.06718577  0.00503264 -0.23244257  0.36293138\n",
      "  -0.01897583]\n",
      " [-0.03982572 -0.174365   -0.36821154 -0.15366371  0.51506711  0.18125376\n",
      "   0.14297794  0.24332948 -0.08983916 -0.05267032 -0.1848059  -0.49989103\n",
      "  -0.06521875]\n",
      " [ 0.26557142  0.36315461 -0.29259713 -0.3039376  -0.03607146  0.08752359\n",
      "  -0.13711292  0.15581476 -0.13366931  0.17870202 -0.27851715  0.16977548\n",
      "   0.04501651]]\n"
     ]
    }
   ],
   "source": [
    "print('고유행렬(Eigenvector): \\n', v) # 13개의 고유값에 대응하는 13개의 고유 벡터"
   ]
  },
  {
   "cell_type": "markdown",
   "metadata": {},
   "source": [
    "\n",
    "#### 실제 PCA에서는 eigenvalue decompostion이 아닌 singular value decomposition(SVD)을 사용한다.\n",
    "#### 그 이유는 다음과 같다.\n",
    "1. SVD는 메모리상에 covariance matrix를 올리지 않는다 (computing 측면)\n",
    "2. SVD를 사용해도 결국 eigenvalue decompostion과 같은 결과가 나온다 (SVD와 eigenvalue decomposition은 제곱의 유무 차이..)\n"
   ]
  },
  {
   "cell_type": "markdown",
   "metadata": {},
   "source": [
    "### 8. Explained Variance Ratio"
   ]
  },
  {
   "cell_type": "code",
   "execution_count": 12,
   "metadata": {},
   "outputs": [
    {
     "name": "stdout",
     "output_type": "stream",
     "text": [
      "설명된 분산 비율:\n",
      " [0.03986493 0.18818926 0.37329648 0.03986493 0.03986493 0.03986493\n",
      " 0.03986493 0.03986493 0.03986493 0.03986493 0.03986493 0.03986493\n",
      " 0.03986493]\n",
      "PCA의 주성분 2개로 설명된 총 분산 비율:\n",
      " 0.22805419394773194 %\n"
     ]
    }
   ],
   "source": [
    "# method 1\n",
    "print('설명된 분산 비율:\\n', w / w.sum())\n",
    "\n",
    "print('PCA의 주성분 2개로 설명된 총 분산 비율:\\n', sum([w[0],w[1]]) / w.sum(),\"%\") # 주성분 1,2"
   ]
  },
  {
   "cell_type": "code",
   "execution_count": 13,
   "metadata": {},
   "outputs": [
    {
     "name": "stdout",
     "output_type": "stream",
     "text": [
      "PCA에서 설명된 개별 분산 비율 :\n",
      " [0.37329648 0.18818926]\n",
      "PCA의 주성분 2개로 설명된 총 분산 비율:\n",
      " 0.5614857383009021 %\n"
     ]
    }
   ],
   "source": [
    "# method 2\n",
    "print('PCA에서 설명된 개별 분산 비율 :\\n', pca.explained_variance_ratio_) # n_components = 2\n",
    "\n",
    "print('PCA의 주성분 2개로 설명된 총 분산 비율:\\n', sum(pca.explained_variance_ratio_),\"%\")"
   ]
  },
  {
   "cell_type": "markdown",
   "metadata": {},
   "source": [
    "#### 같은 값이 나옴을 알 수 있다 !"
   ]
  },
  {
   "cell_type": "markdown",
   "metadata": {},
   "source": [
    "### 9. Create New Dataframe"
   ]
  },
  {
   "cell_type": "code",
   "execution_count": 14,
   "metadata": {},
   "outputs": [
    {
     "data": {
      "text/html": [
       "<div>\n",
       "<style scoped>\n",
       "    .dataframe tbody tr th:only-of-type {\n",
       "        vertical-align: middle;\n",
       "    }\n",
       "\n",
       "    .dataframe tbody tr th {\n",
       "        vertical-align: top;\n",
       "    }\n",
       "\n",
       "    .dataframe thead th {\n",
       "        text-align: right;\n",
       "    }\n",
       "</style>\n",
       "<table border=\"1\" class=\"dataframe\">\n",
       "  <thead>\n",
       "    <tr style=\"text-align: right;\">\n",
       "      <th></th>\n",
       "      <th>pca_comp1</th>\n",
       "      <th>pca_comp2</th>\n",
       "      <th>target</th>\n",
       "    </tr>\n",
       "  </thead>\n",
       "  <tbody>\n",
       "    <tr>\n",
       "      <th>0</th>\n",
       "      <td>2.598916</td>\n",
       "      <td>-0.004841</td>\n",
       "      <td>0</td>\n",
       "    </tr>\n",
       "    <tr>\n",
       "      <th>1</th>\n",
       "      <td>0.158191</td>\n",
       "      <td>2.266596</td>\n",
       "      <td>1</td>\n",
       "    </tr>\n",
       "    <tr>\n",
       "      <th>2</th>\n",
       "      <td>-2.637234</td>\n",
       "      <td>-2.664886</td>\n",
       "      <td>2</td>\n",
       "    </tr>\n",
       "    <tr>\n",
       "      <th>3</th>\n",
       "      <td>-2.528484</td>\n",
       "      <td>-0.518466</td>\n",
       "      <td>2</td>\n",
       "    </tr>\n",
       "    <tr>\n",
       "      <th>4</th>\n",
       "      <td>1.709226</td>\n",
       "      <td>0.917195</td>\n",
       "      <td>1</td>\n",
       "    </tr>\n",
       "    <tr>\n",
       "      <th>5</th>\n",
       "      <td>-2.830570</td>\n",
       "      <td>-0.419361</td>\n",
       "      <td>2</td>\n",
       "    </tr>\n",
       "    <tr>\n",
       "      <th>6</th>\n",
       "      <td>-2.822519</td>\n",
       "      <td>-1.997631</td>\n",
       "      <td>2</td>\n",
       "    </tr>\n",
       "    <tr>\n",
       "      <th>7</th>\n",
       "      <td>1.366180</td>\n",
       "      <td>-0.046391</td>\n",
       "      <td>0</td>\n",
       "    </tr>\n",
       "    <tr>\n",
       "      <th>8</th>\n",
       "      <td>-2.465849</td>\n",
       "      <td>0.079323</td>\n",
       "      <td>1</td>\n",
       "    </tr>\n",
       "    <tr>\n",
       "      <th>9</th>\n",
       "      <td>-2.285549</td>\n",
       "      <td>0.400967</td>\n",
       "      <td>2</td>\n",
       "    </tr>\n",
       "  </tbody>\n",
       "</table>\n",
       "</div>"
      ],
      "text/plain": [
       "   pca_comp1  pca_comp2  target\n",
       "0   2.598916  -0.004841       0\n",
       "1   0.158191   2.266596       1\n",
       "2  -2.637234  -2.664886       2\n",
       "3  -2.528484  -0.518466       2\n",
       "4   1.709226   0.917195       1\n",
       "5  -2.830570  -0.419361       2\n",
       "6  -2.822519  -1.997631       2\n",
       "7   1.366180  -0.046391       0\n",
       "8  -2.465849   0.079323       1\n",
       "9  -2.285549   0.400967       2"
      ]
     },
     "execution_count": 14,
     "metadata": {},
     "output_type": "execute_result"
    }
   ],
   "source": [
    "# 데이터프레임 생성\n",
    "pca_columns = ['pca_comp1', 'pca_comp2'] # 주성분1, 주성분2\n",
    "X_train_pca_df = pd.DataFrame(X_train_pca, \n",
    "                           columns=pca_columns)\n",
    "\n",
    "X_train_pca_df['target'] = y_train\n",
    "\n",
    "X_train_pca_df.head(10) # Dataframe 확인 (label 3개)"
   ]
  },
  {
   "cell_type": "markdown",
   "metadata": {},
   "source": [
    "### 10. Visualize"
   ]
  },
  {
   "cell_type": "code",
   "execution_count": 15,
   "metadata": {},
   "outputs": [
    {
     "data": {
      "image/png": "[encoded data removed]",
      "text/plain": [
       "<Figure size 432x288 with 1 Axes>"
      ]
     },
     "metadata": {
      "needs_background": "light"
     },
     "output_type": "display_data"
    }
   ],
   "source": [
    "# 주성분 2개 사용해서 class 구별 \n",
    "df = X_train_pca_df\n",
    "df_0 = df[df['target']==0]\n",
    "df_1 = df[df['target']==1]\n",
    "df_2 = df[df['target']==2]\n",
    "\n",
    "X_11 = df_0['pca_comp1']\n",
    "X_12 = df_1['pca_comp1']\n",
    "X_13 = df_2['pca_comp1']\n",
    "\n",
    "X_21 = df_0['pca_comp2']\n",
    "X_22 = df_1['pca_comp2']\n",
    "X_23 = df_2['pca_comp2']\n",
    "\n",
    "target_0 = raw_wine.target_names[0]\n",
    "target_1 = raw_wine.target_names[1]\n",
    "target_2 = raw_wine.target_names[2]\n",
    "\n",
    "plt.scatter(X_11, X_21, \n",
    "            marker='o', \n",
    "            label=target_0)\n",
    "plt.scatter(X_12, X_22, \n",
    "            marker='x', \n",
    "            label=target_1)\n",
    "plt.scatter(X_13, X_23, \n",
    "            marker='^', \n",
    "            label=target_2)\n",
    "plt.xlabel('pca_component1')\n",
    "plt.ylabel('pca_component2')\n",
    "plt.legend()\n",
    "plt.show()"
   ]
  },
  {
   "cell_type": "markdown",
   "metadata": {},
   "source": [
    "### 11. Comparision between Original Data and Data after PCA (random forest)"
   ]
  },
  {
   "cell_type": "markdown",
   "metadata": {},
   "source": [
    "#### Without PCA (96% ACC)"
   ]
  },
  {
   "cell_type": "code",
   "execution_count": 16,
   "metadata": {},
   "outputs": [
    {
     "name": "stdout",
     "output_type": "stream",
     "text": [
      "0.9629629629629629\n"
     ]
    }
   ],
   "source": [
    "clf_rf = RandomForestClassifier(max_depth=2, \n",
    "                                random_state=0) # Randomforest\n",
    "\n",
    "clf_rf.fit(X_train_std, y_train) # Fit model\n",
    "\n",
    "pred_rf = clf_rf.predict(X_test_std) # Predict\n",
    "\n",
    "accuracy = accuracy_score(y_test, pred_rf) # Acc\n",
    "print(accuracy)"
   ]
  },
  {
   "cell_type": "markdown",
   "metadata": {},
   "source": [
    "#### With PCA (98%)"
   ]
  },
  {
   "cell_type": "code",
   "execution_count": 17,
   "metadata": {},
   "outputs": [
    {
     "name": "stdout",
     "output_type": "stream",
     "text": [
      "0.9814814814814815\n"
     ]
    }
   ],
   "source": [
    "clf_rf_pca = RandomForestClassifier(max_depth=2, \n",
    "                                    random_state=0) # Randomforest\n",
    "\n",
    "clf_rf_pca.fit(X_train_pca, y_train) # Fit model\n",
    "\n",
    "pred_rf_pca = clf_rf_pca.predict(X_test_pca) # Predict\n",
    "\n",
    "accuracy_pca = accuracy_score(y_test, pred_rf_pca) # Acc\n",
    "print(accuracy_pca)"
   ]
  },
  {
   "cell_type": "code",
   "execution_count": null,
   "metadata": {},
   "outputs": [],
   "source": []
  }
 ],
 "metadata": {
  "kernelspec": {
   "display_name": "Python 3.9.12 ('pytorch')",
   "language": "python",
   "name": "python3"
  },
  "language_info": {
   "codemirror_mode": {
    "name": "ipython",
    "version": 3
   },
   "file_extension": ".py",
   "mimetype": "text/x-python",
   "name": "python",
   "nbconvert_exporter": "python",
   "pygments_lexer": "ipython3",
   "version": "3.9.12"
  },
  "orig_nbformat": 4,
  "vscode": {
   "interpreter": {
    "hash": "15dce93db13c082ac52ebe50c642c71e585f0e2fe0872409ffa1e53bced00a44"
   }
  }
 },
 "nbformat": 4,
 "nbformat_minor": 2
}
